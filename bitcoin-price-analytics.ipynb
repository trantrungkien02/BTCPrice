{
 "cells": [
  {
   "cell_type": "markdown",
   "metadata": {},
   "source": [
    "# Load data (Extract)"
   ]
  },
  {
   "cell_type": "code",
   "execution_count": 1,
   "metadata": {
    "execution": {
     "iopub.execute_input": "2025-07-01T16:44:59.218289Z",
     "iopub.status.busy": "2025-07-01T16:44:59.217911Z",
     "iopub.status.idle": "2025-07-01T16:46:34.322471Z",
     "shell.execute_reply": "2025-07-01T16:46:34.321197Z",
     "shell.execute_reply.started": "2025-07-01T16:44:59.218255Z"
    },
    "trusted": true
   },
   "outputs": [
    {
     "name": "stdout",
     "output_type": "stream",
     "text": [
      "\u001b[33mWARNING: Retrying (Retry(total=4, connect=None, read=None, redirect=None, status=None)) after connection broken by 'NewConnectionError('<pip._vendor.urllib3.connection.HTTPSConnection object at 0x7a1ac9118970>: Failed to establish a new connection: [Errno -3] Temporary failure in name resolution')': /simple/yfinance/\u001b[0m\u001b[33m\n",
      "\u001b[0m\u001b[33mWARNING: Retrying (Retry(total=3, connect=None, read=None, redirect=None, status=None)) after connection broken by 'NewConnectionError('<pip._vendor.urllib3.connection.HTTPSConnection object at 0x7a1ac9118ca0>: Failed to establish a new connection: [Errno -3] Temporary failure in name resolution')': /simple/yfinance/\u001b[0m\u001b[33m\n",
      "\u001b[0m^C\n"
     ]
    }
   ],
   "source": [
    "!pip install yfinance"
   ]
  },
  {
   "cell_type": "code",
   "execution_count": 2,
   "metadata": {
    "execution": {
     "iopub.execute_input": "2025-07-01T16:46:34.325486Z",
     "iopub.status.busy": "2025-07-01T16:46:34.325106Z",
     "iopub.status.idle": "2025-07-01T16:46:34.584534Z",
     "shell.execute_reply": "2025-07-01T16:46:34.581331Z",
     "shell.execute_reply.started": "2025-07-01T16:46:34.325452Z"
    },
    "trusted": true
   },
   "outputs": [
    {
     "ename": "ModuleNotFoundError",
     "evalue": "No module named 'yfinance'",
     "output_type": "error",
     "traceback": [
      "\u001b[0;31m---------------------------------------------------------------------------\u001b[0m",
      "\u001b[0;31mModuleNotFoundError\u001b[0m                       Traceback (most recent call last)",
      "Cell \u001b[0;32mIn[2], line 1\u001b[0m\n\u001b[0;32m----> 1\u001b[0m \u001b[38;5;28;01mimport\u001b[39;00m \u001b[38;5;21;01myfinance\u001b[39;00m \u001b[38;5;28;01mas\u001b[39;00m \u001b[38;5;21;01myf\u001b[39;00m\n\u001b[1;32m      2\u001b[0m \u001b[38;5;28;01mimport\u001b[39;00m \u001b[38;5;21;01mpandas\u001b[39;00m \u001b[38;5;28;01mas\u001b[39;00m \u001b[38;5;21;01mpd\u001b[39;00m\n\u001b[1;32m      4\u001b[0m \u001b[38;5;66;03m# Symbol for Bitcoin is 'BTC-USD'\u001b[39;00m\n",
      "\u001b[0;31mModuleNotFoundError\u001b[0m: No module named 'yfinance'"
     ]
    }
   ],
   "source": [
    "import yfinance as yf\n",
    "import pandas as pd\n",
    "\n",
    "# Symbol for Bitcoin is 'BTC-USD'\n",
    "symbol = 'BTC-USD'\n",
    "\n",
    "# Start and end date\n",
    "start_date = '2013-09-08'\n",
    "end_date = '2023-09-08'\n",
    "\n",
    "# Fetching data from Yahoo Finance\n",
    "bitcoin = yf.download(symbol, start=start_date, end=end_date)\n",
    "bitcoin.reset_index(inplace=True)"
   ]
  },
  {
   "cell_type": "code",
   "execution_count": null,
   "metadata": {
    "execution": {
     "iopub.status.busy": "2025-07-01T16:46:34.588591Z",
     "iopub.status.idle": "2025-07-01T16:46:34.588961Z",
     "shell.execute_reply": "2025-07-01T16:46:34.588812Z",
     "shell.execute_reply.started": "2025-07-01T16:46:34.588794Z"
    },
    "trusted": true
   },
   "outputs": [],
   "source": [
    "bitcoin.head()"
   ]
  },
  {
   "cell_type": "code",
   "execution_count": null,
   "metadata": {
    "execution": {
     "iopub.status.busy": "2025-07-01T16:46:34.590068Z",
     "iopub.status.idle": "2025-07-01T16:46:34.590468Z",
     "shell.execute_reply": "2025-07-01T16:46:34.590304Z",
     "shell.execute_reply.started": "2025-07-01T16:46:34.590287Z"
    },
    "trusted": true
   },
   "outputs": [],
   "source": [
    "bitcoin.tail()"
   ]
  },
  {
   "cell_type": "markdown",
   "metadata": {},
   "source": [
    "Features explanation:\n",
    "\n",
    "- **date**: is a feature that contains the date when the bitcoin was recorded.\n",
    "- **open**: is a feature for the bitcoin price at the time trading starts (first price) within a certain time period (for example: one trading day) and is the starting point in price formation during that period.\n",
    "- **high**: is the highest price feature achieved by bitcoin during a specified time (for example, today). This feature reflects the highest point in price increases during the period.\n",
    "- **low**: is the lowest price feature achieved by bitcoin during a certain period of time. This feature reflects the lowest point in price decline during the period.\n",
    "- **close**: is a feature of the last price at the time of trading in that time period and is often used as an indicator of daily performance.\n",
    "- **adj close**: is a feature similar to the \"close\" feature but has been adjusted to accommodate changes in company structure, such as dividends or stock splits.\n",
    "- **volume**: is a feature of the number of bitcoins traded during a certain time period. This feature indicates how active the market was during that period. High trading volume can indicate high interest or market volatility."
   ]
  },
  {
   "cell_type": "code",
   "execution_count": null,
   "metadata": {
    "execution": {
     "iopub.status.busy": "2025-07-01T16:46:34.591671Z",
     "iopub.status.idle": "2025-07-01T16:46:34.591991Z",
     "shell.execute_reply": "2025-07-01T16:46:34.591857Z",
     "shell.execute_reply.started": "2025-07-01T16:46:34.591841Z"
    },
    "trusted": true
   },
   "outputs": [],
   "source": [
    "bitcoin.shape"
   ]
  },
  {
   "cell_type": "code",
   "execution_count": null,
   "metadata": {
    "execution": {
     "iopub.status.busy": "2025-07-01T16:46:34.593556Z",
     "iopub.status.idle": "2025-07-01T16:46:34.593872Z",
     "shell.execute_reply": "2025-07-01T16:46:34.593736Z",
     "shell.execute_reply.started": "2025-07-01T16:46:34.593721Z"
    },
    "trusted": true
   },
   "outputs": [],
   "source": [
    "bitcoin.info()"
   ]
  },
  {
   "cell_type": "code",
   "execution_count": null,
   "metadata": {
    "execution": {
     "iopub.status.busy": "2025-07-01T16:46:34.595145Z",
     "iopub.status.idle": "2025-07-01T16:46:34.595641Z",
     "shell.execute_reply": "2025-07-01T16:46:34.595402Z",
     "shell.execute_reply.started": "2025-07-01T16:46:34.595377Z"
    },
    "trusted": true
   },
   "outputs": [],
   "source": [
    "bitcoin.describe().T"
   ]
  },
  {
   "cell_type": "markdown",
   "metadata": {},
   "source": [
    "# Data preprocessing (Transform)"
   ]
  },
  {
   "cell_type": "markdown",
   "metadata": {},
   "source": [
    "#### Is there an incorrect data type?"
   ]
  },
  {
   "cell_type": "code",
   "execution_count": null,
   "metadata": {
    "execution": {
     "iopub.status.busy": "2025-07-01T16:46:34.596801Z",
     "iopub.status.idle": "2025-07-01T16:46:34.597292Z",
     "shell.execute_reply": "2025-07-01T16:46:34.597047Z",
     "shell.execute_reply.started": "2025-07-01T16:46:34.597023Z"
    },
    "trusted": true
   },
   "outputs": [],
   "source": [
    "# convert data type \"Date\" from object to datetime\n",
    "\n",
    "bitcoin[\"Date\"] = bitcoin[\"Date\"].astype(\"datetime64[ns]\")"
   ]
  },
  {
   "cell_type": "code",
   "execution_count": null,
   "metadata": {
    "execution": {
     "iopub.status.busy": "2025-07-01T16:46:34.598645Z",
     "iopub.status.idle": "2025-07-01T16:46:34.598945Z",
     "shell.execute_reply": "2025-07-01T16:46:34.598816Z",
     "shell.execute_reply.started": "2025-07-01T16:46:34.598801Z"
    },
    "trusted": true
   },
   "outputs": [],
   "source": [
    "type(bitcoin[\"Date\"])"
   ]
  },
  {
   "cell_type": "code",
   "execution_count": null,
   "metadata": {
    "execution": {
     "iopub.status.busy": "2025-07-01T16:46:34.600551Z",
     "iopub.status.idle": "2025-07-01T16:46:34.601029Z",
     "shell.execute_reply": "2025-07-01T16:46:34.600804Z",
     "shell.execute_reply.started": "2025-07-01T16:46:34.600781Z"
    },
    "trusted": true
   },
   "outputs": [],
   "source": [
    "# check again data type \"Date\"\n",
    "\n",
    "bitcoin.dtypes"
   ]
  },
  {
   "cell_type": "markdown",
   "metadata": {},
   "source": [
    "#### Are there any missing values?"
   ]
  },
  {
   "cell_type": "code",
   "execution_count": null,
   "metadata": {
    "execution": {
     "iopub.status.busy": "2025-07-01T16:46:34.602670Z",
     "iopub.status.idle": "2025-07-01T16:46:34.603170Z",
     "shell.execute_reply": "2025-07-01T16:46:34.602928Z",
     "shell.execute_reply.started": "2025-07-01T16:46:34.602905Z"
    },
    "trusted": true
   },
   "outputs": [],
   "source": [
    "# Check for missing values\n",
    "missing_values = bitcoin.isnull().sum()\n",
    "\n",
    "# Display columns with missing values and the count of missing values\n",
    "missing_values = missing_values[missing_values > 0]\n",
    "\n",
    "if not missing_values.empty:\n",
    "    print(\"Columns with missing values:\")\n",
    "    for column, count in missing_values.items():\n",
    "        print(f\"{column}: {count} missing values\")\n",
    "else:\n",
    "    print(\"There are no columns with missing value\")"
   ]
  },
  {
   "cell_type": "markdown",
   "metadata": {},
   "source": [
    "#### Is there any duplicate data?"
   ]
  },
  {
   "cell_type": "code",
   "execution_count": null,
   "metadata": {
    "execution": {
     "iopub.status.busy": "2025-07-01T16:46:34.604858Z",
     "iopub.status.idle": "2025-07-01T16:46:34.605388Z",
     "shell.execute_reply": "2025-07-01T16:46:34.605139Z",
     "shell.execute_reply.started": "2025-07-01T16:46:34.605114Z"
    },
    "trusted": true
   },
   "outputs": [],
   "source": [
    "if bitcoin.duplicated().any():\n",
    "    print(f\"There are as many as {bitcoin.duplicated().sum()} duplicate data.\")\n",
    "else:\n",
    "    print(\"There are no duplicate data.\")"
   ]
  },
  {
   "cell_type": "markdown",
   "metadata": {},
   "source": [
    "# Let's analyze the data (Load)"
   ]
  },
  {
   "cell_type": "code",
   "execution_count": null,
   "metadata": {
    "execution": {
     "iopub.status.busy": "2025-07-01T16:46:34.606689Z",
     "iopub.status.idle": "2025-07-01T16:46:34.607179Z",
     "shell.execute_reply": "2025-07-01T16:46:34.606939Z",
     "shell.execute_reply.started": "2025-07-01T16:46:34.606915Z"
    },
    "trusted": true
   },
   "outputs": [],
   "source": [
    "# sort index from new to old\n",
    "\n",
    "bitcoin.sort_index(ascending=False)"
   ]
  },
  {
   "cell_type": "markdown",
   "metadata": {},
   "source": [
    "#### How does the bitcoin price trend move from time to time?"
   ]
  },
  {
   "cell_type": "code",
   "execution_count": null,
   "metadata": {
    "execution": {
     "iopub.status.busy": "2025-07-01T16:46:34.609499Z",
     "iopub.status.idle": "2025-07-01T16:46:34.609951Z",
     "shell.execute_reply": "2025-07-01T16:46:34.609745Z",
     "shell.execute_reply.started": "2025-07-01T16:46:34.609720Z"
    },
    "trusted": true
   },
   "outputs": [],
   "source": [
    "# reset index\n",
    "\n",
    "bitcoin_new = bitcoin.sort_index(ascending=False).reset_index()"
   ]
  },
  {
   "cell_type": "code",
   "execution_count": null,
   "metadata": {
    "execution": {
     "iopub.status.busy": "2025-07-01T16:46:34.611655Z",
     "iopub.status.idle": "2025-07-01T16:46:34.611994Z",
     "shell.execute_reply": "2025-07-01T16:46:34.611851Z",
     "shell.execute_reply.started": "2025-07-01T16:46:34.611834Z"
    },
    "trusted": true
   },
   "outputs": [],
   "source": [
    "# removed the old index feature\n",
    "\n",
    "bitcoin_new.drop('index', axis=1, inplace=True)"
   ]
  },
  {
   "cell_type": "code",
   "execution_count": null,
   "metadata": {
    "execution": {
     "iopub.status.busy": "2025-07-01T16:46:34.613411Z",
     "iopub.status.idle": "2025-07-01T16:46:34.613739Z",
     "shell.execute_reply": "2025-07-01T16:46:34.613593Z",
     "shell.execute_reply.started": "2025-07-01T16:46:34.613577Z"
    },
    "trusted": true
   },
   "outputs": [],
   "source": [
    "bitcoin_new.columns"
   ]
  },
  {
   "cell_type": "code",
   "execution_count": null,
   "metadata": {
    "execution": {
     "iopub.status.busy": "2025-07-01T16:46:34.614922Z",
     "iopub.status.idle": "2025-07-01T16:46:34.615290Z",
     "shell.execute_reply": "2025-07-01T16:46:34.615141Z",
     "shell.execute_reply.started": "2025-07-01T16:46:34.615121Z"
    },
    "trusted": true
   },
   "outputs": [],
   "source": [
    "import matplotlib.pyplot as plt\n",
    "\n",
    "plt.figure(figsize=(20, 10))\n",
    "\n",
    "colors = ['blue', 'green', 'red', 'purple']\n",
    "\n",
    "for index, col in enumerate(['Open', 'High', 'Low', 'Close']):\n",
    "    plt.subplot(2, 2, index + 1)\n",
    "    plt.plot(bitcoin_new[\"Date\"], bitcoin_new[col], color=colors[index])\n",
    "    plt.xlabel('Date')\n",
    "    plt.ylabel('Price (USD$)')\n",
    "    plt.title(col)\n",
    "    plt.legend([col])\n",
    "    \n",
    "plt.suptitle('Bitcoin Price Trends', fontsize=16)\n",
    "plt.tight_layout()\n",
    "plt.show()"
   ]
  },
  {
   "cell_type": "markdown",
   "metadata": {},
   "source": [
    "**Result**\n",
    "\n",
    "An analysis of Bitcoin price trends over the course of 5 years, based on close, open, high, and low data, reveals significant fluctuations."
   ]
  },
  {
   "cell_type": "markdown",
   "metadata": {},
   "source": [
    "#### How does the price of bitcoin move over time using candlesticks?"
   ]
  },
  {
   "cell_type": "code",
   "execution_count": null,
   "metadata": {
    "execution": {
     "iopub.status.busy": "2025-07-01T16:46:34.617012Z",
     "iopub.status.idle": "2025-07-01T16:46:34.617374Z",
     "shell.execute_reply": "2025-07-01T16:46:34.617228Z",
     "shell.execute_reply.started": "2025-07-01T16:46:34.617211Z"
    },
    "trusted": true
   },
   "outputs": [],
   "source": [
    "from plotly.offline import init_notebook_mode\n",
    "\n",
    "init_notebook_mode(connected=True)"
   ]
  },
  {
   "cell_type": "code",
   "execution_count": null,
   "metadata": {
    "execution": {
     "iopub.status.busy": "2025-07-01T16:46:34.618630Z",
     "iopub.status.idle": "2025-07-01T16:46:34.618947Z",
     "shell.execute_reply": "2025-07-01T16:46:34.618812Z",
     "shell.execute_reply.started": "2025-07-01T16:46:34.618796Z"
    },
    "trusted": true
   },
   "outputs": [],
   "source": [
    "import plotly.graph_objs as go\n",
    "\n",
    "bitcoin_sampel = bitcoin_new[0:50]\n",
    "\n",
    "trace = go.Candlestick(x=bitcoin_sampel['Date'],\n",
    "               high=bitcoin_sampel['High'],\n",
    "               open=bitcoin_sampel['Open'],\n",
    "               low=bitcoin_sampel['Low'],\n",
    "               close=bitcoin_sampel['Close'])"
   ]
  },
  {
   "cell_type": "code",
   "execution_count": null,
   "metadata": {
    "execution": {
     "iopub.status.busy": "2025-07-01T16:46:34.620441Z",
     "iopub.status.idle": "2025-07-01T16:46:34.620783Z",
     "shell.execute_reply": "2025-07-01T16:46:34.620620Z",
     "shell.execute_reply.started": "2025-07-01T16:46:34.620605Z"
    },
    "trusted": true
   },
   "outputs": [],
   "source": [
    "layout = go.Layout(\n",
    "    title='Bitcoin Price',\n",
    "    xaxis=dict(\n",
    "        title='Date',\n",
    "        showgrid=True,\n",
    "        gridcolor='lightgray',\n",
    "        tickformat='%Y-%m-%d',\n",
    "        showline=True\n",
    "    ),\n",
    "    yaxis=dict(\n",
    "        title='Price',\n",
    "        showgrid=True,\n",
    "        gridcolor='lightgray',\n",
    "        showline=True\n",
    "    ),\n",
    "    margin=dict(l=40, r=20, t=40, b=20),\n",
    "    plot_bgcolor='white',\n",
    "    hovermode='x', \n",
    "    showlegend=False\n",
    ")"
   ]
  },
  {
   "cell_type": "code",
   "execution_count": null,
   "metadata": {
    "execution": {
     "iopub.status.busy": "2025-07-01T16:46:34.622218Z",
     "iopub.status.idle": "2025-07-01T16:46:34.622567Z",
     "shell.execute_reply": "2025-07-01T16:46:34.622420Z",
     "shell.execute_reply.started": "2025-07-01T16:46:34.622403Z"
    },
    "trusted": true
   },
   "outputs": [],
   "source": [
    "fig = go.Figure(data=[trace], layout=layout)\n",
    "\n",
    "fig.update_layout(xaxis_rangeslider_visible=False)\n",
    "\n",
    "fig.update_xaxes(\n",
    "    rangebreaks=[dict(enabled=True, bounds=[\"sat\", \"sun\"])]  # Menghilangkan akhir pekan pada sumbu x\n",
    ")\n",
    "\n",
    "fig.show()"
   ]
  },
  {
   "cell_type": "markdown",
   "metadata": {},
   "source": [
    "**Result**\n",
    "\n",
    "Bitcoin price trend analysis for 5 years using candlestick plots based on close, open, high and low shows significant variations in price changes. There are several factors that might be the cause."
   ]
  },
  {
   "cell_type": "markdown",
   "metadata": {},
   "source": [
    "#### How to analyze close price with a log scale?\n",
    "\n",
    "Log is an abbreviation of the word \"logarithm\" in mathematics. Logarithm is a mathematical operation used to measure exponentiality or the ratio between two numbers. The logarithmic function measures the exponential required to convert one number to another number on a given basis.\n",
    "\n",
    "There are lots of logarithmic functions in data analysis, in this analysis, we will apply logarithms to the logarithmic scale on the close price feature. The goal is to make it easier to read."
   ]
  },
  {
   "cell_type": "code",
   "execution_count": null,
   "metadata": {
    "execution": {
     "iopub.status.busy": "2025-07-01T16:46:34.623734Z",
     "iopub.status.idle": "2025-07-01T16:46:34.624071Z",
     "shell.execute_reply": "2025-07-01T16:46:34.623921Z",
     "shell.execute_reply.started": "2025-07-01T16:46:34.623905Z"
    },
    "trusted": true
   },
   "outputs": [],
   "source": [
    "plt.figure(figsize=(12, 6))\n",
    "bitcoin_new['Close'].plot(color='blue', linewidth=1.5, label='Closing Price')\n",
    "plt.title('Bitcoin Closing Price Chart')\n",
    "plt.xlabel('Data Point')\n",
    "plt.ylabel('Closing Price')\n",
    "plt.grid(True, linestyle='--', alpha=0.6)\n",
    "plt.legend(loc='upper right')\n",
    "plt.tight_layout()\n",
    "plt.show()"
   ]
  },
  {
   "cell_type": "code",
   "execution_count": null,
   "metadata": {
    "execution": {
     "iopub.status.busy": "2025-07-01T16:46:34.625900Z",
     "iopub.status.idle": "2025-07-01T16:46:34.626419Z",
     "shell.execute_reply": "2025-07-01T16:46:34.626191Z",
     "shell.execute_reply.started": "2025-07-01T16:46:34.626167Z"
    },
    "trusted": true
   },
   "outputs": [],
   "source": [
    "bitcoin_new"
   ]
  },
  {
   "cell_type": "code",
   "execution_count": null,
   "metadata": {
    "execution": {
     "iopub.status.busy": "2025-07-01T16:46:34.627445Z",
     "iopub.status.idle": "2025-07-01T16:46:34.628243Z",
     "shell.execute_reply": "2025-07-01T16:46:34.627966Z",
     "shell.execute_reply.started": "2025-07-01T16:46:34.627939Z"
    },
    "trusted": true
   },
   "outputs": [],
   "source": [
    "bitcoin_new.set_index('Date', inplace=True)"
   ]
  },
  {
   "cell_type": "code",
   "execution_count": null,
   "metadata": {
    "execution": {
     "iopub.status.busy": "2025-07-01T16:46:34.630077Z",
     "iopub.status.idle": "2025-07-01T16:46:34.630578Z",
     "shell.execute_reply": "2025-07-01T16:46:34.630347Z",
     "shell.execute_reply.started": "2025-07-01T16:46:34.630323Z"
    },
    "trusted": true
   },
   "outputs": [],
   "source": [
    "bitcoin_new"
   ]
  },
  {
   "cell_type": "code",
   "execution_count": null,
   "metadata": {
    "execution": {
     "iopub.status.busy": "2025-07-01T16:46:34.631697Z",
     "iopub.status.idle": "2025-07-01T16:46:34.632181Z",
     "shell.execute_reply": "2025-07-01T16:46:34.631945Z",
     "shell.execute_reply.started": "2025-07-01T16:46:34.631921Z"
    },
    "trusted": true
   },
   "outputs": [],
   "source": [
    "plt.figure(figsize=(20,6))\n",
    "\n",
    "plt.plot(bitcoin_new.index, bitcoin_new['Close'], color='blue', linestyle='-', marker='o', markersize=5, label='Closing Price')\n",
    "plt.xlabel('Date', fontsize=12)\n",
    "plt.ylabel('Closing Price', fontsize=12)\n",
    "plt.title('Bitcoin Closing Price Over Time', fontsize=14)\n",
    "plt.grid(True, linestyle='--', alpha=0.6)\n",
    "plt.gca().xaxis.set_major_formatter(plt.matplotlib.dates.DateFormatter('%Y-%m-%d'))\n",
    "plt.legend()\n",
    "plt.show()"
   ]
  },
  {
   "cell_type": "code",
   "execution_count": null,
   "metadata": {
    "execution": {
     "iopub.status.busy": "2025-07-01T16:46:34.633169Z",
     "iopub.status.idle": "2025-07-01T16:46:34.633652Z",
     "shell.execute_reply": "2025-07-01T16:46:34.633433Z",
     "shell.execute_reply.started": "2025-07-01T16:46:34.633398Z"
    },
    "trusted": true
   },
   "outputs": [],
   "source": [
    "import numpy as np\n",
    "\n",
    "sma_30d = bitcoin_new['Close'].rolling(window=30).mean()\n",
    "sma_30d_log = np.log1p(sma_30d)\n",
    "\n",
    "plt.figure(figsize=(14, 6))\n",
    "plt.suptitle('Bitcoin Price Analysis', fontsize=16)\n",
    "\n",
    "# Subplot 1\n",
    "plt.subplot(1, 2, 1)\n",
    "bitcoin_new['Close'].plot(color='b', alpha=0.7, label='Original')\n",
    "sma_30d.plot(color='r', label='30-Day SMA')\n",
    "plt.title('No Scaling', fontsize=14)\n",
    "plt.xlabel('Date', fontsize=12)\n",
    "plt.ylabel('Price', fontsize=12)\n",
    "plt.grid(True)\n",
    "plt.legend()\n",
    "\n",
    "# Subplot 2\n",
    "plt.subplot(1, 2, 2)\n",
    "np.log1p(bitcoin_new['Close']).plot(color='g', alpha=0.7, label='Original')\n",
    "sma_30d_log.plot(color='m', label='Log 30-Day SMA')\n",
    "plt.title('Log Scaling', fontsize=14)\n",
    "plt.xlabel('Date', fontsize=12)\n",
    "plt.ylabel('Log Price', fontsize=12)\n",
    "plt.yscale('log')\n",
    "plt.grid(True)\n",
    "plt.legend()\n",
    "\n",
    "plt.tight_layout(rect=[0, 0.03, 1, 0.95])\n",
    "plt.show()"
   ]
  },
  {
   "cell_type": "markdown",
   "metadata": {},
   "source": [
    "#### How to see annual, monthly and quartile close price trends along with daily price changes?"
   ]
  },
  {
   "cell_type": "code",
   "execution_count": null,
   "metadata": {
    "execution": {
     "iopub.status.busy": "2025-07-01T16:46:34.635278Z",
     "iopub.status.idle": "2025-07-01T16:46:34.635637Z",
     "shell.execute_reply": "2025-07-01T16:46:34.635480Z",
     "shell.execute_reply.started": "2025-07-01T16:46:34.635457Z"
    },
    "trusted": true
   },
   "outputs": [],
   "source": [
    "bitcoin_new.head()"
   ]
  },
  {
   "cell_type": "code",
   "execution_count": null,
   "metadata": {
    "execution": {
     "iopub.status.busy": "2025-07-01T16:46:34.637206Z",
     "iopub.status.idle": "2025-07-01T16:46:34.637527Z",
     "shell.execute_reply": "2025-07-01T16:46:34.637384Z",
     "shell.execute_reply.started": "2025-07-01T16:46:34.637369Z"
    },
    "trusted": true
   },
   "outputs": [],
   "source": [
    "# Resample the data\n",
    "yearly_mean = bitcoin_new['Close'].resample('Y').mean()\n",
    "quarterly_mean = bitcoin_new['Close'].resample('Q').mean()\n",
    "monthly_mean = bitcoin_new['Close'].resample('M').mean()\n",
    "\n",
    "# Create the figure and set its size\n",
    "plt.figure(figsize=(12, 6))\n",
    "\n",
    "# Plot the yearly data with a label\n",
    "yearly_mean.plot(label='Yearly Mean', marker='o', linestyle='-', linewidth=2)\n",
    "\n",
    "# Plot the quarterly data with a label\n",
    "quarterly_mean.plot(label='Quarterly Mean', marker='s', linestyle='--', linewidth=2)\n",
    "\n",
    "# Plot the monthly data with a label\n",
    "monthly_mean.plot(label='Monthly Mean', marker='^', linestyle='-.', linewidth=2)\n",
    "\n",
    "# Add a title and axis labels\n",
    "plt.title('Average Bitcoin Closing Prices')\n",
    "plt.xlabel('Date')\n",
    "plt.ylabel('Closing Price')\n",
    "\n",
    "# Add a legend\n",
    "plt.legend()\n",
    "\n",
    "# Display the plot\n",
    "plt.grid(True)\n",
    "plt.show()"
   ]
  },
  {
   "cell_type": "code",
   "execution_count": null,
   "metadata": {
    "execution": {
     "iopub.status.busy": "2025-07-01T16:46:34.639029Z",
     "iopub.status.idle": "2025-07-01T16:46:34.639538Z",
     "shell.execute_reply": "2025-07-01T16:46:34.639312Z",
     "shell.execute_reply.started": "2025-07-01T16:46:34.639288Z"
    },
    "trusted": true
   },
   "outputs": [],
   "source": [
    "bitcoin_new['Close']"
   ]
  },
  {
   "cell_type": "code",
   "execution_count": null,
   "metadata": {
    "execution": {
     "iopub.status.busy": "2025-07-01T16:46:34.641367Z",
     "iopub.status.idle": "2025-07-01T16:46:34.641883Z",
     "shell.execute_reply": "2025-07-01T16:46:34.641652Z",
     "shell.execute_reply.started": "2025-07-01T16:46:34.641626Z"
    },
    "trusted": true
   },
   "outputs": [],
   "source": [
    "bitcoin_new['Close_pct_change'] = bitcoin_new['Close'].pct_change()*100\n",
    "bitcoin_new['Close_pct_change']"
   ]
  },
  {
   "cell_type": "code",
   "execution_count": null,
   "metadata": {
    "execution": {
     "iopub.status.busy": "2025-07-01T16:46:34.643569Z",
     "iopub.status.idle": "2025-07-01T16:46:34.644070Z",
     "shell.execute_reply": "2025-07-01T16:46:34.643850Z",
     "shell.execute_reply.started": "2025-07-01T16:46:34.643826Z"
    },
    "trusted": true
   },
   "outputs": [],
   "source": [
    "# Plot the data\n",
    "plt.figure(figsize=(12, 6))  # Set the figure size\n",
    "plt.plot(bitcoin_new['Close_pct_change'], color='blue', linestyle='-', marker='o', markersize=4, label='Pct Change')\n",
    "\n",
    "# Add title and axis labels\n",
    "plt.title('Enhanced Bitcoin Closing Price Percentage Change')\n",
    "plt.xlabel('Date')\n",
    "plt.ylabel('Percentage Change')\n",
    "\n",
    "# Add a grid\n",
    "plt.grid(True)\n",
    "\n",
    "# Add a legend\n",
    "plt.legend()\n",
    "\n",
    "# Display the plot\n",
    "plt.show()"
   ]
  },
  {
   "cell_type": "code",
   "execution_count": null,
   "metadata": {
    "execution": {
     "iopub.status.busy": "2025-07-01T16:46:34.645696Z",
     "iopub.status.idle": "2025-07-01T16:46:34.646015Z",
     "shell.execute_reply": "2025-07-01T16:46:34.645879Z",
     "shell.execute_reply.started": "2025-07-01T16:46:34.645864Z"
    },
    "trusted": true
   },
   "outputs": [],
   "source": [
    "import cufflinks as cf\n",
    "\n",
    "cf.go_offline()"
   ]
  },
  {
   "cell_type": "code",
   "execution_count": null,
   "metadata": {
    "execution": {
     "iopub.status.busy": "2025-07-01T16:46:34.647213Z",
     "iopub.status.idle": "2025-07-01T16:46:34.647559Z",
     "shell.execute_reply": "2025-07-01T16:46:34.647410Z",
     "shell.execute_reply.started": "2025-07-01T16:46:34.647393Z"
    },
    "trusted": true
   },
   "outputs": [],
   "source": [
    "# Makes the plot more interactive\n",
    "\n",
    "import plotly.express as px\n",
    "\n",
    "# Plot the percentage change in Bitcoin's closing price\n",
    "px.line(bitcoin_new, x=bitcoin_new.index, y='Close_pct_change', title='Bitcoin Closing Price Percentage Change Over Time')"
   ]
  }
 ],
 "metadata": {
  "kaggle": {
   "accelerator": "none",
   "dataSources": [],
   "dockerImageVersionId": 30558,
   "isGpuEnabled": false,
   "isInternetEnabled": false,
   "language": "python",
   "sourceType": "notebook"
  },
  "kernelspec": {
   "display_name": "Python 3",
   "language": "python",
   "name": "python3"
  },
  "language_info": {
   "codemirror_mode": {
    "name": "ipython",
    "version": 3
   },
   "file_extension": ".py",
   "mimetype": "text/x-python",
   "name": "python",
   "nbconvert_exporter": "python",
   "pygments_lexer": "ipython3",
   "version": "3.10.12"
  }
 },
 "nbformat": 4,
 "nbformat_minor": 4
}
